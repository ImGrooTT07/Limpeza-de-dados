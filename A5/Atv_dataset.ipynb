{
 "cells": [
  {
   "cell_type": "code",
   "execution_count": 15,
   "id": "447021c4",
   "metadata": {},
   "outputs": [],
   "source": [
    "# 1. LEITURA E INSPEÇÃO\n",
    "\n",
    "import pandas as pd\n",
    "import numpy as np\n",
    "import matplotlib.pyplot as plt\n",
    "import seaborn as sns"
   ]
  },
  {
   "cell_type": "code",
   "execution_count": 6,
   "id": "93775524",
   "metadata": {},
   "outputs": [
    {
     "name": "stdout",
     "output_type": "stream",
     "text": [
      "Tipos de dados:\n",
      " ID;Nome;Idade;Cidade;Produto;Preço;Quantidade;Data_Compra    object\n",
      "dtype: object\n",
      "\n",
      "Quantidade de valores nulos:\n",
      " ID;Nome;Idade;Cidade;Produto;Preço;Quantidade;Data_Compra    491\n",
      "dtype: int64\n",
      "\n",
      "Linhas duplicadas: 490\n"
     ]
    }
   ],
   "source": [
    "# Leitura da base\n",
    "df = pd.read_csv(\"atividade3_dataset.csv\")\n",
    "\n",
    "# Inspeção inicial\n",
    "print(\"Tipos de dados:\\n\", df.dtypes)\n",
    "print(\"\\nQuantidade de valores nulos:\\n\", df.isnull().sum())\n",
    "print(\"\\nLinhas duplicadas:\", df.duplicated().sum())"
   ]
  },
  {
   "cell_type": "code",
   "execution_count": 7,
   "id": "6d264474",
   "metadata": {},
   "outputs": [],
   "source": [
    "# 2. TRATAMENTO DE VALORES AUSENTES\n",
    "\n",
    "# Exemplo de tratamento:\n",
    "# - Preencher colunas numéricas com a média\n",
    "num_cols = df.select_dtypes(include=['int64', 'float64']).columns\n",
    "df[num_cols] = df[num_cols].fillna(df[num_cols].mean())\n",
    "\n",
    "# - Preencher colunas categóricas com \"Desconhecido\"\n",
    "cat_cols = df.select_dtypes(include=['object']).columns\n",
    "df[cat_cols] = df[cat_cols].fillna(\"Desconhecido\")"
   ]
  },
  {
   "cell_type": "code",
   "execution_count": 8,
   "id": "f292cf4e",
   "metadata": {},
   "outputs": [],
   "source": [
    "# 3. REMOÇÃO DE DUPLICADOS\n",
    "\n",
    "df = df.drop_duplicates()"
   ]
  },
  {
   "cell_type": "code",
   "execution_count": 9,
   "id": "ad42089d",
   "metadata": {},
   "outputs": [],
   "source": [
    "# 4. CORREÇÕES ADICIONAIS\n",
    "\n",
    "# Exemplo: padronizar valores de uma coluna de estado\n",
    "if 'estado' in df.columns:\n",
    "    df['estado'] = df['estado'].replace({\n",
    "        'SP': 'São Paulo',\n",
    "        'sp': 'São Paulo',\n",
    "        'sao paulo': 'São Paulo'\n",
    "    })\n",
    "\n",
    "# Exemplo: converter coluna numérica que veio como texto\n",
    "if 'idade' in df.columns:\n",
    "    df['idade'] = pd.to_numeric(df['idade'], errors='coerce')\n",
    "\n",
    "# Exemplo: converter datas que vieram como string\n",
    "if 'data' in df.columns:\n",
    "    df['data'] = pd.to_datetime(df['data'], errors='coerce')"
   ]
  },
  {
   "cell_type": "code",
   "execution_count": 10,
   "id": "a0c54dd0",
   "metadata": {},
   "outputs": [],
   "source": [
    "# 5. CRIAÇÃO DE NOVA COLUNA\n",
    "\n",
    "# Exemplo: criar indicador binário de acima/abaixo da média de uma coluna numérica\n",
    "if 'renda' in df.columns:\n",
    "    media_renda = df['renda'].mean()\n",
    "    df['acima_media_renda'] = df['renda'] > media_renda"
   ]
  },
  {
   "cell_type": "code",
   "execution_count": 19,
   "id": "e5e6621e",
   "metadata": {},
   "outputs": [
    {
     "name": "stdout",
     "output_type": "stream",
     "text": [
      "\n",
      "Estatísticas descritivas:\n",
      "        ID;Nome;Idade;Cidade;Produto;Preço;Quantidade;Data_Compra\n",
      "count                                                  20       \n",
      "unique                                                 20       \n",
      "top                                       87;7;30-05-2024       \n",
      "freq                                                    1       \n"
     ]
    }
   ],
   "source": [
    "# 6. EXPLORAÇÃO APÓS LIMPEZA\n",
    "# ================================\n",
    "\n",
    "# Estatísticas descritivas\n",
    "print(\"\\nEstatísticas descritivas:\\n\", df.describe(include='all'))\n",
    "\n",
    "# Gráfico 1: Histograma da primeira coluna numérica\n",
    "if len(num_cols) > 0:\n",
    "    df[num_cols[0]].hist()\n",
    "    plt.title(f\"Distribuição de {num_cols[0]}\")\n",
    "    plt.xlabel(num_cols[0])\n",
    "    plt.ylabel(\"Frequência\")\n",
    "    plt.show()\n",
    "\n",
    "# Gráfico 2: Mapa de correlação entre variáveis numéricas\n",
    "if len(num_cols) > 1:\n",
    "    plt.matshow(df[num_cols].corr())\n",
    "    plt.title(\"Mapa de Correlação\", pad=20)\n",
    "    plt.colorbar()\n",
    "    plt.show()"
   ]
  },
  {
   "cell_type": "code",
   "execution_count": 20,
   "id": "42c6b814",
   "metadata": {},
   "outputs": [],
   "source": [
    "# 7. EXPORTAÇÃO DA BASE LIMPA\n",
    "\n",
    "df.to_csv(\"base_limpa.csv\", index=False)"
   ]
  }
 ],
 "metadata": {
  "kernelspec": {
   "display_name": "Python 3",
   "language": "python",
   "name": "python3"
  },
  "language_info": {
   "codemirror_mode": {
    "name": "ipython",
    "version": 3
   },
   "file_extension": ".py",
   "mimetype": "text/x-python",
   "name": "python",
   "nbconvert_exporter": "python",
   "pygments_lexer": "ipython3",
   "version": "3.12.5"
  }
 },
 "nbformat": 4,
 "nbformat_minor": 5
}
